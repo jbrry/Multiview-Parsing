{
 "cells": [
  {
   "cell_type": "code",
   "execution_count": null,
   "metadata": {},
   "outputs": [],
   "source": [
    "import torch"
   ]
  },
  {
   "cell_type": "code",
   "execution_count": null,
   "metadata": {},
   "outputs": [],
   "source": [
    "# an example character tensor, 0 is padding and 2 is a space character\n",
    "tensor = torch.LongTensor([[16, 12,  5, 19,  2, 26, 13, 13,  0,  0,  0,  0,  0,  0,  0,  0,  0,  0,\n",
    "          0,  0,  0,  0,  0,  0,  0,  0,  0,  0,  0,  0,  0,  0,  0,  0,  0,  0,\n",
    "          0,  0,  0,  0,  0,  0,  0,  0,  0,  0,  0,  0,  0,  0,  0,  0,  0,  0,\n",
    "          0,  0,  0,  0,  0,  0,  0,  0,  0,  0,  0,  0,  0,  0,  0,  0,  0,  0,\n",
    "          0,  0,  0],\n",
    "        [26, 22,  5, 14,  4,  2, 26, 30, 16, 32,  2, 16, 23, 24,  2, 31, 14,  3,\n",
    "          8, 25,  2, 17,  5, 15,  3,  0,  0,  0,  0,  0,  0,  0,  0,  0,  0,  0,\n",
    "          0,  0,  0,  0,  0,  0,  0,  0,  0,  0,  0,  0,  0,  0,  0,  0,  0,  0,\n",
    "          0,  0,  0,  0,  0,  0,  0,  0,  0,  0,  0,  0,  0,  0,  0,  0,  0,  0,\n",
    "          0,  0,  0],\n",
    "        [26, 30, 16, 32, 37, 43, 44,  2, 15,  3,  6, 11,  8, 10, 22,  3,  6,  2,\n",
    "          4, 12,  3,  2,  4,  8,  7, 15, 10,  4, 10,  5,  9,  7, 13,  2, 45,  3,\n",
    "          4,  2, 16, 23, 24,  2,  6, 25,  9,  4,  7, 38,  2, 27,  0,  0,  0,  0,\n",
    "          0,  0,  0,  0,  0,  0,  0,  0,  0,  0,  0,  0,  0,  0,  0,  0,  0,  0,\n",
    "          0,  0,  0],\n",
    "        [41,  5, 14,  2, 11,  7,  9,  2, 11,  8,  3,  7,  4,  3,  2, 16, 23, 24,\n",
    "          2, 31, 14,  3,  8, 10,  3,  6,  2, 10,  9,  2,  5,  9,  3,  2,  5, 21,\n",
    "          2,  4, 19,  5,  2, 26, 30, 16, 32,  2, 16, 23, 24,  2, 31, 14,  3,  8,\n",
    "         25,  2, 17,  5, 15,  3,  6,  2, 42,  0,  0,  0,  0,  0,  0,  0,  0,  0,\n",
    "          0,  0,  0],\n",
    "        [16,  5, 17,  3,  2,  5, 21,  2,  4, 12,  3,  2, 11,  5,  9,  4,  3,  9,\n",
    "          4,  2, 10,  9,  2,  4, 12, 10,  6,  2,  4,  5, 20, 10, 11,  2, 17,  7,\n",
    "         25,  2,  9,  5,  4,  2, 22,  3,  2,  7, 20, 20, 13, 10, 11,  7, 22, 13,\n",
    "          3,  2,  4,  5,  2,  6,  5, 17,  3,  2, 13,  7,  9, 18, 14,  7, 18,  3,\n",
    "          6,  2, 27]])"
   ]
  },
  {
   "cell_type": "code",
   "execution_count": null,
   "metadata": {},
   "outputs": [],
   "source": [
    "tensor.size()"
   ]
  },
  {
   "cell_type": "code",
   "execution_count": null,
   "metadata": {},
   "outputs": [],
   "source": [
    "start_locations = []\n",
    "end_locations = []\n",
    "\n",
    "for sentence in tensor:\n",
    "    # for each sentence we create a flag to mark the start of the sentence.\n",
    "    start_of_sentence = True\n",
    "    sentence_starts = []\n",
    "    sentence_ends = []\n",
    "\n",
    "    for i, value in enumerate(sentence):\n",
    "        if start_of_sentence or last_was_space_char:\n",
    "            sentence_starts.append(i)\n",
    "            start_of_sentence = False\n",
    "            last_was_space_char = False\n",
    "        else:\n",
    "            # space after the word, where \"2\" is the index for the space token in token to index vocab.\n",
    "            if value == 2:\n",
    "                # get the index before space.\n",
    "                end_of_word_idx = i - 1\n",
    "                sentence_ends.append(end_of_word_idx)\n",
    "                last_was_space_char = True\n",
    "            \n",
    "            # we have reached the padding elements.\n",
    "            elif value == 0:\n",
    "                end_of_word_idx = i - 1\n",
    "                sentence_ends.append(end_of_word_idx)\n",
    "                # exit from current sentence.\n",
    "                break\n",
    "                       \n",
    "    # check that we don't have any un-finished words.\n",
    "    if len(sentence_starts) > len(sentence_ends):\n",
    "        # if we do, append the last index of the sentence (making sure we are at the last index).\n",
    "        assert i == (len(sentence) - 1)\n",
    "        sentence_ends.append(i)\n",
    "    \n",
    "    if len(sentence_starts) > 1 and len(sentence_ends) > 1:\n",
    "        start_locations.append(sentence_starts)\n",
    "        end_locations.append(sentence_ends)\n",
    "        \n",
    "location_tuples = []\n",
    "for sentence_starts, sentence_ends in zip(start_locations, end_locations):\n",
    "    current_sent = []\n",
    "    #print(sentence_starts, \" \", sentence_ends)\n",
    "    for sentence_start, sentence_end in zip(sentence_starts, sentence_ends):\n",
    "        #print(sentence_start, sentence_end)\n",
    "        word_start_and_end = (sentence_start, sentence_end)\n",
    "        current_sent.append(word_start_and_end)\n",
    "    location_tuples.append(current_sent)\n",
    "\n",
    "print(location_tuples)\n",
    "print(len(location_tuples))\n",
    "assert len(location_tuples) == tensor.size(0)"
   ]
  },
  {
   "cell_type": "code",
   "execution_count": null,
   "metadata": {
    "scrolled": true
   },
   "outputs": [],
   "source": [
    "tensor"
   ]
  },
  {
   "cell_type": "code",
   "execution_count": null,
   "metadata": {},
   "outputs": [],
   "source": [
    "tensors = []\n",
    "\n",
    "for i, v in enumerate(location_tuples):\n",
    "    t = []\n",
    "    for start, end in v:\n",
    "        s = tensor[i][start]\n",
    "        e = tensor[i][end]\n",
    "        ss = s.unsqueeze(-1)\n",
    "        ee = e.unsqueeze(-1)\n",
    "        x = torch.cat((ss, ee), 0)\n",
    "        print(x)\n",
    "        t.append(x)\n",
    "    tensors.append(t)\n",
    "        \n",
    "    print(\"---\")"
   ]
  }
 ],
 "metadata": {
  "kernelspec": {
   "display_name": "Python 3",
   "language": "python",
   "name": "python3"
  },
  "language_info": {
   "codemirror_mode": {
    "name": "ipython",
    "version": 3
   },
   "file_extension": ".py",
   "mimetype": "text/x-python",
   "name": "python",
   "nbconvert_exporter": "python",
   "pygments_lexer": "ipython3",
   "version": "3.7.9"
  }
 },
 "nbformat": 4,
 "nbformat_minor": 2
}
